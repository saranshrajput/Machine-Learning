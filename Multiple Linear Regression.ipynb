{
 "cells": [
  {
   "cell_type": "markdown",
   "metadata": {},
   "source": [
    "# Importing pandas and numpy"
   ]
  },
  {
   "cell_type": "code",
   "execution_count": 115,
   "metadata": {},
   "outputs": [],
   "source": [
    "import pandas as pd\n",
    "import numpy as np\n",
    "data = pd.read_csv(r'C:\\Users\\Gaming\\Desktop\\Dataset.csv' )"
   ]
  },
  {
   "cell_type": "code",
   "execution_count": 116,
   "metadata": {},
   "outputs": [],
   "source": [
    "data.columns = ['City1','City2','Average Fare','Distance','Average weekly passengers','market leading airline','market share','Average fare','Low price airline','market share','price']"
   ]
  },
  {
   "cell_type": "code",
   "execution_count": 117,
   "metadata": {},
   "outputs": [
    {
     "data": {
      "text/html": [
       "<div>\n",
       "<style scoped>\n",
       "    .dataframe tbody tr th:only-of-type {\n",
       "        vertical-align: middle;\n",
       "    }\n",
       "\n",
       "    .dataframe tbody tr th {\n",
       "        vertical-align: top;\n",
       "    }\n",
       "\n",
       "    .dataframe thead th {\n",
       "        text-align: right;\n",
       "    }\n",
       "</style>\n",
       "<table border=\"1\" class=\"dataframe\">\n",
       "  <thead>\n",
       "    <tr style=\"text-align: right;\">\n",
       "      <th></th>\n",
       "      <th>City1</th>\n",
       "      <th>City2</th>\n",
       "      <th>Average Fare</th>\n",
       "      <th>Distance</th>\n",
       "      <th>Average weekly passengers</th>\n",
       "      <th>market leading airline</th>\n",
       "      <th>market share</th>\n",
       "      <th>Average fare</th>\n",
       "      <th>Low price airline</th>\n",
       "      <th>market share</th>\n",
       "      <th>price</th>\n",
       "    </tr>\n",
       "  </thead>\n",
       "  <tbody>\n",
       "    <tr>\n",
       "      <th>0</th>\n",
       "      <td>CAK</td>\n",
       "      <td>MCO</td>\n",
       "      <td>122.47</td>\n",
       "      <td>860</td>\n",
       "      <td>276.84</td>\n",
       "      <td>FL</td>\n",
       "      <td>75.10</td>\n",
       "      <td>123.09</td>\n",
       "      <td>DL</td>\n",
       "      <td>17.23</td>\n",
       "      <td>118.94</td>\n",
       "    </tr>\n",
       "    <tr>\n",
       "      <th>1</th>\n",
       "      <td>ALB</td>\n",
       "      <td>ATL</td>\n",
       "      <td>214.42</td>\n",
       "      <td>852</td>\n",
       "      <td>215.76</td>\n",
       "      <td>DL</td>\n",
       "      <td>78.89</td>\n",
       "      <td>223.98</td>\n",
       "      <td>CO</td>\n",
       "      <td>2.77</td>\n",
       "      <td>167.12</td>\n",
       "    </tr>\n",
       "    <tr>\n",
       "      <th>2</th>\n",
       "      <td>ALB</td>\n",
       "      <td>BWI</td>\n",
       "      <td>69.40</td>\n",
       "      <td>288</td>\n",
       "      <td>606.84</td>\n",
       "      <td>WN</td>\n",
       "      <td>96.97</td>\n",
       "      <td>68.86</td>\n",
       "      <td>WN</td>\n",
       "      <td>96.97</td>\n",
       "      <td>68.86</td>\n",
       "    </tr>\n",
       "    <tr>\n",
       "      <th>3</th>\n",
       "      <td>ALB</td>\n",
       "      <td>ORD</td>\n",
       "      <td>158.13</td>\n",
       "      <td>723</td>\n",
       "      <td>313.04</td>\n",
       "      <td>UA</td>\n",
       "      <td>39.79</td>\n",
       "      <td>161.36</td>\n",
       "      <td>WN</td>\n",
       "      <td>15.34</td>\n",
       "      <td>145.42</td>\n",
       "    </tr>\n",
       "    <tr>\n",
       "      <th>4</th>\n",
       "      <td>ALB</td>\n",
       "      <td>FLL</td>\n",
       "      <td>135.17</td>\n",
       "      <td>1204</td>\n",
       "      <td>199.02</td>\n",
       "      <td>WN</td>\n",
       "      <td>40.68</td>\n",
       "      <td>137.97</td>\n",
       "      <td>DL</td>\n",
       "      <td>17.09</td>\n",
       "      <td>127.69</td>\n",
       "    </tr>\n",
       "    <tr>\n",
       "      <th>...</th>\n",
       "      <td>...</td>\n",
       "      <td>...</td>\n",
       "      <td>...</td>\n",
       "      <td>...</td>\n",
       "      <td>...</td>\n",
       "      <td>...</td>\n",
       "      <td>...</td>\n",
       "      <td>...</td>\n",
       "      <td>...</td>\n",
       "      <td>...</td>\n",
       "      <td>...</td>\n",
       "    </tr>\n",
       "    <tr>\n",
       "      <th>994</th>\n",
       "      <td>SYR</td>\n",
       "      <td>TPA</td>\n",
       "      <td>136.16</td>\n",
       "      <td>1104</td>\n",
       "      <td>184.34</td>\n",
       "      <td>US</td>\n",
       "      <td>33.37</td>\n",
       "      <td>135.82</td>\n",
       "      <td>DL</td>\n",
       "      <td>28.65</td>\n",
       "      <td>118.51</td>\n",
       "    </tr>\n",
       "    <tr>\n",
       "      <th>995</th>\n",
       "      <td>TLH</td>\n",
       "      <td>TPA</td>\n",
       "      <td>83.28</td>\n",
       "      <td>200</td>\n",
       "      <td>232.71</td>\n",
       "      <td>FL</td>\n",
       "      <td>99.57</td>\n",
       "      <td>82.55</td>\n",
       "      <td>FL</td>\n",
       "      <td>99.57</td>\n",
       "      <td>82.55</td>\n",
       "    </tr>\n",
       "    <tr>\n",
       "      <th>996</th>\n",
       "      <td>TPA</td>\n",
       "      <td>IAD</td>\n",
       "      <td>159.97</td>\n",
       "      <td>814</td>\n",
       "      <td>843.80</td>\n",
       "      <td>US</td>\n",
       "      <td>46.19</td>\n",
       "      <td>159.65</td>\n",
       "      <td>DL</td>\n",
       "      <td>13.89</td>\n",
       "      <td>159.02</td>\n",
       "    </tr>\n",
       "    <tr>\n",
       "      <th>997</th>\n",
       "      <td>TPA</td>\n",
       "      <td>PBI</td>\n",
       "      <td>73.57</td>\n",
       "      <td>174</td>\n",
       "      <td>214.45</td>\n",
       "      <td>WN</td>\n",
       "      <td>99.74</td>\n",
       "      <td>73.44</td>\n",
       "      <td>WN</td>\n",
       "      <td>99.74</td>\n",
       "      <td>73.44</td>\n",
       "    </tr>\n",
       "    <tr>\n",
       "      <th>998</th>\n",
       "      <td>IAD</td>\n",
       "      <td>PBI</td>\n",
       "      <td>126.67</td>\n",
       "      <td>859</td>\n",
       "      <td>475.65</td>\n",
       "      <td>US</td>\n",
       "      <td>56.28</td>\n",
       "      <td>129.92</td>\n",
       "      <td>DL</td>\n",
       "      <td>38.57</td>\n",
       "      <td>121.94</td>\n",
       "    </tr>\n",
       "  </tbody>\n",
       "</table>\n",
       "<p>999 rows × 11 columns</p>\n",
       "</div>"
      ],
      "text/plain": [
       "    City1 City2  Average Fare  Distance  Average weekly passengers  \\\n",
       "0     CAK   MCO        122.47       860                     276.84   \n",
       "1     ALB   ATL        214.42       852                     215.76   \n",
       "2     ALB   BWI         69.40       288                     606.84   \n",
       "3     ALB   ORD        158.13       723                     313.04   \n",
       "4     ALB   FLL        135.17      1204                     199.02   \n",
       "..    ...   ...           ...       ...                        ...   \n",
       "994   SYR   TPA        136.16      1104                     184.34   \n",
       "995   TLH   TPA         83.28       200                     232.71   \n",
       "996   TPA   IAD        159.97       814                     843.80   \n",
       "997   TPA   PBI         73.57       174                     214.45   \n",
       "998   IAD   PBI        126.67       859                     475.65   \n",
       "\n",
       "    market leading airline  market share  Average fare Low price airline  \\\n",
       "0                       FL         75.10        123.09                DL   \n",
       "1                       DL         78.89        223.98                CO   \n",
       "2                       WN         96.97         68.86                WN   \n",
       "3                       UA         39.79        161.36                WN   \n",
       "4                       WN         40.68        137.97                DL   \n",
       "..                     ...           ...           ...               ...   \n",
       "994                     US         33.37        135.82                DL   \n",
       "995                     FL         99.57         82.55                FL   \n",
       "996                     US         46.19        159.65                DL   \n",
       "997                     WN         99.74         73.44                WN   \n",
       "998                     US         56.28        129.92                DL   \n",
       "\n",
       "     market share   price  \n",
       "0           17.23  118.94  \n",
       "1            2.77  167.12  \n",
       "2           96.97   68.86  \n",
       "3           15.34  145.42  \n",
       "4           17.09  127.69  \n",
       "..            ...     ...  \n",
       "994         28.65  118.51  \n",
       "995         99.57   82.55  \n",
       "996         13.89  159.02  \n",
       "997         99.74   73.44  \n",
       "998         38.57  121.94  \n",
       "\n",
       "[999 rows x 11 columns]"
      ]
     },
     "execution_count": 117,
     "metadata": {},
     "output_type": "execute_result"
    }
   ],
   "source": [
    "data"
   ]
  },
  {
   "cell_type": "markdown",
   "metadata": {},
   "source": [
    "# Determinig correlation between features"
   ]
  },
  {
   "cell_type": "code",
   "execution_count": 118,
   "metadata": {
    "scrolled": true
   },
   "outputs": [
    {
     "data": {
      "text/plain": [
       "<matplotlib.axes._subplots.AxesSubplot at 0x1c1a39e4488>"
      ]
     },
     "execution_count": 118,
     "metadata": {},
     "output_type": "execute_result"
    },
    {
     "data": {
      "image/png": "[encoded data removed]",
      "text/plain": [
       "<Figure size 432x288 with 2 Axes>"
      ]
     },
     "metadata": {
      "needs_background": "light"
     },
     "output_type": "display_data"
    }
   ],
   "source": [
    "import seaborn as sns\n",
    "sns.heatmap(data.corr() )"
   ]
  },
  {
   "cell_type": "markdown",
   "metadata": {},
   "source": [
    "# Analyzing data\n",
    "-Checking for null values\n",
    "-Checking number of columns and rows\n",
    "-Plotting dependent and independent variables\n"
   ]
  },
  {
   "cell_type": "code",
   "execution_count": 119,
   "metadata": {
    "scrolled": true
   },
   "outputs": [
    {
     "name": "stdout",
     "output_type": "stream",
     "text": [
      "City1                        0\n",
      "City2                        0\n",
      "Average Fare                 0\n",
      "Distance                     0\n",
      "Average weekly passengers    0\n",
      "market leading airline       0\n",
      "market share                 0\n",
      "Average fare                 0\n",
      "Low price airline            0\n",
      "market share                 0\n",
      "price                        0\n",
      "dtype: int64\n"
     ]
    }
   ],
   "source": [
    "print(data.isnull().sum())"
   ]
  },
  {
   "cell_type": "code",
   "execution_count": 120,
   "metadata": {},
   "outputs": [
    {
     "name": "stdout",
     "output_type": "stream",
     "text": [
      "<class 'pandas.core.frame.DataFrame'>\n",
      "RangeIndex: 999 entries, 0 to 998\n",
      "Data columns (total 11 columns):\n",
      " #   Column                     Non-Null Count  Dtype  \n",
      "---  ------                     --------------  -----  \n",
      " 0   City1                      999 non-null    object \n",
      " 1   City2                      999 non-null    object \n",
      " 2   Average Fare               999 non-null    float64\n",
      " 3   Distance                   999 non-null    int64  \n",
      " 4   Average weekly passengers  999 non-null    float64\n",
      " 5   market leading airline     999 non-null    object \n",
      " 6   market share               999 non-null    float64\n",
      " 7   Average fare               999 non-null    float64\n",
      " 8   Low price airline          999 non-null    object \n",
      " 9   market share               999 non-null    float64\n",
      " 10  price                      999 non-null    float64\n",
      "dtypes: float64(6), int64(1), object(4)\n",
      "memory usage: 86.0+ KB\n"
     ]
    }
   ],
   "source": [
    "data.info()"
   ]
  },
  {
   "cell_type": "code",
   "execution_count": 121,
   "metadata": {},
   "outputs": [
    {
     "data": {
      "text/plain": [
       "<matplotlib.axes._subplots.AxesSubplot at 0x1c1a4a6a0c8>"
      ]
     },
     "execution_count": 121,
     "metadata": {},
     "output_type": "execute_result"
    },
    {
     "data": {
      "image/png": "[encoded data removed]",
      "text/plain": [
       "<Figure size 432x288 with 1 Axes>"
      ]
     },
     "metadata": {
      "needs_background": "light"
     },
     "output_type": "display_data"
    }
   ],
   "source": [
    "data.plot(x = 'Distance' , y = 'Average Fare' , kind = 'scatter')"
   ]
  },
  {
   "cell_type": "markdown",
   "metadata": {},
   "source": [
    "# Importing packages and performing linear regression\n",
    "\n"
   ]
  },
  {
   "cell_type": "code",
   "execution_count": 122,
   "metadata": {},
   "outputs": [],
   "source": [
    "x = data.drop([ 'City1', 'City2', 'market leading airline' , 'Low price airline'] , axis = 1)\n",
    "y = data['Average Fare']"
   ]
  },
  {
   "cell_type": "code",
   "execution_count": 123,
   "metadata": {},
   "outputs": [],
   "source": [
    "from sklearn.model_selection import train_test_split\n",
    "from sklearn.linear_model import LinearRegression\n",
    "from sklearn.metrics import classification_report\n",
    "from sklearn.metrics import accuracy_score"
   ]
  },
  {
   "cell_type": "code",
   "execution_count": 140,
   "metadata": {},
   "outputs": [],
   "source": [
    "x_train , x_test , y_train , y_test = train_test_split( x , y , test_size = 0.2 , random_state = 0)"
   ]
  },
  {
   "cell_type": "code",
   "execution_count": 141,
   "metadata": {},
   "outputs": [
    {
     "name": "stdout",
     "output_type": "stream",
     "text": [
      "(799, 7) (799,) (200, 7) (200,)\n"
     ]
    }
   ],
   "source": [
    "print(x_train.shape,y_train.shape,x_test.shape,y_test.shape)"
   ]
  },
  {
   "cell_type": "code",
   "execution_count": 142,
   "metadata": {},
   "outputs": [],
   "source": [
    "regressor = LinearRegression()"
   ]
  },
  {
   "cell_type": "code",
   "execution_count": 143,
   "metadata": {},
   "outputs": [
    {
     "data": {
      "text/plain": [
       "LinearRegression(copy_X=True, fit_intercept=True, n_jobs=None, normalize=False)"
      ]
     },
     "execution_count": 143,
     "metadata": {},
     "output_type": "execute_result"
    }
   ],
   "source": [
    "regressor.fit(x_train , y_train)"
   ]
  },
  {
   "cell_type": "code",
   "execution_count": 144,
   "metadata": {},
   "outputs": [
    {
     "data": {
      "text/plain": [
       "array([[128.46, 115.95, 165.91,  93.47, 141.69, 166.14,  78.14, 245.67,\n",
       "        156.55, 121.42,  76.3 , 172.15, 199.25, 167.56, 159.97, 177.91,\n",
       "        283.9 , 181.34, 160.71, 185.57, 162.46, 168.21,  74.82,  77.41,\n",
       "        138.96, 124.86, 154.4 , 246.26, 151.41,  76.06, 225.27, 192.71,\n",
       "        157.78,  82.44, 172.95, 247.48, 103.47, 141.52, 135.63, 100.47,\n",
       "         69.03, 142.63, 153.65,  96.78, 190.85, 167.42, 164.94, 161.76,\n",
       "        214.23,  78.07, 274.75, 132.19, 225.83, 206.31,  85.72, 223.35,\n",
       "        146.57, 175.61, 254.96, 127.32, 107.83, 164.27, 129.98,  83.28,\n",
       "        275.67, 181.6 , 134.27, 317.2 , 277.25, 126.67, 207.91, 178.49,\n",
       "        165.99, 181.7 , 167.34, 182.28, 159.93, 223.35, 122.8 , 175.06,\n",
       "        140.87, 147.08, 152.93,  73.73, 109.72, 186.15, 139.98, 155.99,\n",
       "        127.46, 220.24, 144.22, 176.9 , 222.8 , 123.12, 149.81, 179.29,\n",
       "        128.12, 269.76, 137.4 , 198.07, 134.21,  75.44, 128.36, 151.03,\n",
       "         93.2 , 127.9 , 103.89, 186.26, 163.93, 174.49, 257.32, 242.02,\n",
       "        205.13, 163.7 , 192.69, 156.14, 291.35,  69.74, 120.49, 148.42,\n",
       "        116.41, 136.75, 168.59, 142.08, 144.02, 230.27, 135.72, 174.32,\n",
       "         97.89, 206.8 , 186.88, 120.93, 216.04, 204.13, 134.17, 162.  ,\n",
       "        177.47, 117.9 , 224.33, 221.5 , 194.7 , 170.4 ,  89.36, 215.13,\n",
       "        189.68, 243.22, 146.06, 314.01, 132.52, 148.08, 110.74, 166.88,\n",
       "        199.87, 182.01, 108.46, 149.29,  69.99, 181.38,  94.67,  81.09,\n",
       "        226.37, 129.56, 126.18, 105.83, 229.24,  78.93, 178.05, 124.05,\n",
       "        173.01, 258.68, 128.94, 106.26, 122.55, 181.88, 254.29,  71.81,\n",
       "        124.68, 145.25, 244.07, 132.9 , 190.76, 161.5 , 180.5 , 214.32,\n",
       "         87.45,  80.67, 215.04, 215.22, 116.01, 152.85, 145.26, 109.45,\n",
       "        231.87, 209.39, 154.67, 180.99, 141.52, 178.94, 134.18, 137.78]])"
      ]
     },
     "execution_count": 144,
     "metadata": {},
     "output_type": "execute_result"
    }
   ],
   "source": [
    "y_pred = regressor.predict(x_test)\n",
    "y_pred.reshape(1 ,-1)"
   ]
  },
  {
   "cell_type": "code",
   "execution_count": 145,
   "metadata": {},
   "outputs": [
    {
     "data": {
      "text/plain": [
       "Text(0, 0.5, 'Pred')"
      ]
     },
     "execution_count": 145,
     "metadata": {},
     "output_type": "execute_result"
    },
    {
     "data": {
      "image/png": "[encoded data removed]",
      "text/plain": [
       "<Figure size 432x288 with 1 Axes>"
      ]
     },
     "metadata": {
      "needs_background": "light"
     },
     "output_type": "display_data"
    }
   ],
   "source": [
    "import matplotlib.pyplot as plt\n",
    "plt.scatter(y_test[0:5], y_pred[0:5])\n",
    "plt.xlabel('True values')\n",
    "plt.ylabel('Pred')"
   ]
  },
  {
   "cell_type": "code",
   "execution_count": 146,
   "metadata": {},
   "outputs": [
    {
     "data": {
      "text/html": [
       "<div>\n",
       "<style scoped>\n",
       "    .dataframe tbody tr th:only-of-type {\n",
       "        vertical-align: middle;\n",
       "    }\n",
       "\n",
       "    .dataframe tbody tr th {\n",
       "        vertical-align: top;\n",
       "    }\n",
       "\n",
       "    .dataframe thead th {\n",
       "        text-align: right;\n",
       "    }\n",
       "</style>\n",
       "<table border=\"1\" class=\"dataframe\">\n",
       "  <thead>\n",
       "    <tr style=\"text-align: right;\">\n",
       "      <th></th>\n",
       "      <th>Actual</th>\n",
       "      <th>Predicted</th>\n",
       "    </tr>\n",
       "  </thead>\n",
       "  <tbody>\n",
       "    <tr>\n",
       "      <th>722</th>\n",
       "      <td>128.46</td>\n",
       "      <td>128.46</td>\n",
       "    </tr>\n",
       "    <tr>\n",
       "      <th>77</th>\n",
       "      <td>115.95</td>\n",
       "      <td>115.95</td>\n",
       "    </tr>\n",
       "    <tr>\n",
       "      <th>877</th>\n",
       "      <td>165.91</td>\n",
       "      <td>165.91</td>\n",
       "    </tr>\n",
       "    <tr>\n",
       "      <th>613</th>\n",
       "      <td>93.47</td>\n",
       "      <td>93.47</td>\n",
       "    </tr>\n",
       "    <tr>\n",
       "      <th>903</th>\n",
       "      <td>141.69</td>\n",
       "      <td>141.69</td>\n",
       "    </tr>\n",
       "    <tr>\n",
       "      <th>531</th>\n",
       "      <td>166.14</td>\n",
       "      <td>166.14</td>\n",
       "    </tr>\n",
       "    <tr>\n",
       "      <th>399</th>\n",
       "      <td>78.14</td>\n",
       "      <td>78.14</td>\n",
       "    </tr>\n",
       "    <tr>\n",
       "      <th>452</th>\n",
       "      <td>245.67</td>\n",
       "      <td>245.67</td>\n",
       "    </tr>\n",
       "    <tr>\n",
       "      <th>31</th>\n",
       "      <td>156.55</td>\n",
       "      <td>156.55</td>\n",
       "    </tr>\n",
       "    <tr>\n",
       "      <th>356</th>\n",
       "      <td>121.42</td>\n",
       "      <td>121.42</td>\n",
       "    </tr>\n",
       "    <tr>\n",
       "      <th>681</th>\n",
       "      <td>76.30</td>\n",
       "      <td>76.30</td>\n",
       "    </tr>\n",
       "    <tr>\n",
       "      <th>295</th>\n",
       "      <td>172.15</td>\n",
       "      <td>172.15</td>\n",
       "    </tr>\n",
       "    <tr>\n",
       "      <th>497</th>\n",
       "      <td>199.25</td>\n",
       "      <td>199.25</td>\n",
       "    </tr>\n",
       "    <tr>\n",
       "      <th>813</th>\n",
       "      <td>167.56</td>\n",
       "      <td>167.56</td>\n",
       "    </tr>\n",
       "    <tr>\n",
       "      <th>996</th>\n",
       "      <td>159.97</td>\n",
       "      <td>159.97</td>\n",
       "    </tr>\n",
       "    <tr>\n",
       "      <th>978</th>\n",
       "      <td>177.91</td>\n",
       "      <td>177.91</td>\n",
       "    </tr>\n",
       "    <tr>\n",
       "      <th>422</th>\n",
       "      <td>283.90</td>\n",
       "      <td>283.90</td>\n",
       "    </tr>\n",
       "    <tr>\n",
       "      <th>389</th>\n",
       "      <td>181.34</td>\n",
       "      <td>181.34</td>\n",
       "    </tr>\n",
       "    <tr>\n",
       "      <th>308</th>\n",
       "      <td>160.71</td>\n",
       "      <td>160.71</td>\n",
       "    </tr>\n",
       "    <tr>\n",
       "      <th>768</th>\n",
       "      <td>185.57</td>\n",
       "      <td>185.57</td>\n",
       "    </tr>\n",
       "    <tr>\n",
       "      <th>991</th>\n",
       "      <td>162.46</td>\n",
       "      <td>162.46</td>\n",
       "    </tr>\n",
       "    <tr>\n",
       "      <th>478</th>\n",
       "      <td>168.21</td>\n",
       "      <td>168.21</td>\n",
       "    </tr>\n",
       "    <tr>\n",
       "      <th>27</th>\n",
       "      <td>74.82</td>\n",
       "      <td>74.82</td>\n",
       "    </tr>\n",
       "    <tr>\n",
       "      <th>925</th>\n",
       "      <td>77.41</td>\n",
       "      <td>77.41</td>\n",
       "    </tr>\n",
       "    <tr>\n",
       "      <th>103</th>\n",
       "      <td>138.96</td>\n",
       "      <td>138.96</td>\n",
       "    </tr>\n",
       "  </tbody>\n",
       "</table>\n",
       "</div>"
      ],
      "text/plain": [
       "     Actual  Predicted\n",
       "722  128.46     128.46\n",
       "77   115.95     115.95\n",
       "877  165.91     165.91\n",
       "613   93.47      93.47\n",
       "903  141.69     141.69\n",
       "531  166.14     166.14\n",
       "399   78.14      78.14\n",
       "452  245.67     245.67\n",
       "31   156.55     156.55\n",
       "356  121.42     121.42\n",
       "681   76.30      76.30\n",
       "295  172.15     172.15\n",
       "497  199.25     199.25\n",
       "813  167.56     167.56\n",
       "996  159.97     159.97\n",
       "978  177.91     177.91\n",
       "422  283.90     283.90\n",
       "389  181.34     181.34\n",
       "308  160.71     160.71\n",
       "768  185.57     185.57\n",
       "991  162.46     162.46\n",
       "478  168.21     168.21\n",
       "27    74.82      74.82\n",
       "925   77.41      77.41\n",
       "103  138.96     138.96"
      ]
     },
     "execution_count": 146,
     "metadata": {},
     "output_type": "execute_result"
    }
   ],
   "source": [
    "df = pd.DataFrame({'Actual': y_test, 'Predicted': y_pred})\n",
    "df.head(25)"
   ]
  },
  {
   "cell_type": "markdown",
   "metadata": {},
   "source": [
    "# Checking accuracy using Mean Squared Error"
   ]
  },
  {
   "cell_type": "code",
   "execution_count": 147,
   "metadata": {},
   "outputs": [
    {
     "name": "stdout",
     "output_type": "stream",
     "text": [
      "Mean Squared Error: 5.218346442473202e-27\n"
     ]
    }
   ],
   "source": [
    "from sklearn import metrics\n",
    "print('Mean Squared Error:', metrics.mean_squared_error(y_test, y_pred))  \n"
   ]
  },
  {
   "cell_type": "markdown",
   "metadata": {},
   "source": [
    "# Part 3"
   ]
  },
  {
   "cell_type": "markdown",
   "metadata": {},
   "source": [
    "1 - The most important dataset to predict the average fair is distance.\n",
    "\n",
    "\n",
    "\n",
    "2 - Since the data is linear , linear regression is best but SVM may also         perform good.\n",
    "\n",
    "\n",
    "\n",
    "3 - More data will result in better prediction. Also we can use one-hot           encoding in columns containing characters for better predictions.\n",
    "\n",
    "\n",
    "\n",
    "\n",
    "4 - The data is linear and the model preditions are very accurate as we           applies linear regression on linear data."
   ]
  },
  {
   "cell_type": "code",
   "execution_count": null,
   "metadata": {},
   "outputs": [],
   "source": []
  }
 ],
 "metadata": {
  "kernelspec": {
   "display_name": "Python 3",
   "language": "python",
   "name": "python3"
  },
  "language_info": {
   "codemirror_mode": {
    "name": "ipython",
    "version": 3
   },
   "file_extension": ".py",
   "mimetype": "text/x-python",
   "name": "python",
   "nbconvert_exporter": "python",
   "pygments_lexer": "ipython3",
   "version": "3.7.6"
  }
 },
 "nbformat": 4,
 "nbformat_minor": 4
}
