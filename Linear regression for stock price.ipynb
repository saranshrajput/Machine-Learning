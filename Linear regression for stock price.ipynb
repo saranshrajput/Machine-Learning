{
 "cells": [
  {
   "cell_type": "code",
   "execution_count": 17,
   "metadata": {},
   "outputs": [
    {
     "data": {
      "image/png": "[encoded data removed]",
      "text/plain": [
       "<Figure size 432x288 with 1 Axes>"
      ]
     },
     "metadata": {
      "needs_background": "light"
     },
     "output_type": "display_data"
    }
   ],
   "source": [
    "import quandl, math\n",
    "import numpy as np\n",
    "import pandas as pd\n",
    "from sklearn import preprocessing, svm\n",
    "from sklearn.model_selection import train_test_split \n",
    "import matplotlib.pyplot as plt\n",
    "from matplotlib import style\n",
    "import datetime\n",
    "\n",
    "from sklearn.linear_model import LinearRegression\n",
    "\n",
    "df = quandl.get(\"WIKI/GOOGL\")\n",
    "df = df[['Adj. Open',  'Adj. High',  'Adj. Low',  'Adj. Close', 'Adj. Volume']]\n",
    "df['HL_PCT'] = (df['Adj. High'] - df['Adj. Low']) / df['Adj. Close'] * 100.0\n",
    "df['PCT_change'] = (df['Adj. Close'] - df['Adj. Open']) / df['Adj. Open'] * 100.0\n",
    "\n",
    "df = df[['Adj. Close', 'HL_PCT', 'PCT_change', 'Adj. Volume']]\n",
    "forecast_col = 'Adj. Close'\n",
    "df.fillna(value=-99999, inplace=True)\n",
    "forecast_out = int(math.ceil(0.01 * len(df)))\n",
    "df['label'] = df[forecast_col].shift(-forecast_out)\n",
    "\n",
    "X = np.array(df.drop(['label'], 1))\n",
    "X = preprocessing.scale(X)\n",
    "X = X[:-forecast_out]\n",
    "df.dropna(inplace=True)\n",
    "y = np.array(df['label'])\n",
    "X_train, X_test, y_train, y_test = train_test_split(X, y, test_size=0.2)\n",
    "\n",
    "clf = LinearRegression(n_jobs=-1)\n",
    "clf.fit(X_train, y_train)\n",
    "confidence = clf.score(X_test, y_test)\n",
    "\n",
    "forecast_set = clf.predict(X_test)\n",
    "df['Forecast'] = np.nan\n",
    "\n",
    "last_date = df.iloc[-1].name\n",
    "last_unix = last_date.timestamp()\n",
    "one_day = 86400\n",
    "next_unix = last_unix + one_day\n",
    "\n",
    "for i in forecast_set:\n",
    "    next_date = datetime.datetime.fromtimestamp(next_unix)\n",
    "    next_unix += 86400\n",
    "    df.loc[next_date] = [np.nan for _ in range(len(df.columns)-1)]+[i]\n",
    "\n",
    "df['Adj. Close'].plot()\n",
    "df['Forecast'].plot()\n",
    "plt.legend(loc=4)\n",
    "plt.xlabel('Date')\n",
    "plt.ylabel('Price')\n",
    "plt.show()"
   ]
  },
  {
   "cell_type": "code",
   "execution_count": 13,
   "metadata": {},
   "outputs": [
    {
     "name": "stdout",
     "output_type": "stream",
     "text": [
      "0.9765783021799289\n"
     ]
    }
   ],
   "source": [
    "print(confidence)"
   ]
  },
  {
   "cell_type": "code",
   "execution_count": 6,
   "metadata": {},
   "outputs": [
    {
     "name": "stdout",
     "output_type": "stream",
     "text": [
      "Requirement already satisfied: scikit-learn in c:\\users\\91999\\anaconda3\\envs\\ml\\lib\\site-packages (0.22.1)\n",
      "Requirement already satisfied: scipy>=0.17.0 in c:\\users\\91999\\anaconda3\\envs\\ml\\lib\\site-packages (from scikit-learn) (1.4.1)\n",
      "Requirement already satisfied: joblib>=0.11 in c:\\users\\91999\\anaconda3\\envs\\ml\\lib\\site-packages (from scikit-learn) (0.14.1)\n",
      "Requirement already satisfied: numpy>=1.11.0 in c:\\users\\91999\\anaconda3\\envs\\ml\\lib\\site-packages (from scikit-learn) (1.18.1)\n"
     ]
    }
   ],
   "source": [
    "!pip install scikit-learn"
   ]
  },
  {
   "cell_type": "code",
   "execution_count": 4,
   "metadata": {},
   "outputs": [
    {
     "name": "stdout",
     "output_type": "stream",
     "text": [
      "Package              Version            \n",
      "-------------------- -------------------\n",
      "absl-py              0.9.0              \n",
      "astor                0.8.1              \n",
      "attrs                19.3.0             \n",
      "backcall             0.1.0              \n",
      "bleach               3.1.0              \n",
      "certifi              2019.11.28         \n",
      "cffi                 1.13.2             \n",
      "chardet              3.0.4              \n",
      "colorama             0.4.3              \n",
      "cycler               0.10.0             \n",
      "decorator            4.4.1              \n",
      "defusedxml           0.6.0              \n",
      "entrypoints          0.3                \n",
      "gast                 0.3.2              \n",
      "grpcio               1.26.0             \n",
      "h5py                 2.10.0             \n",
      "idna                 2.8                \n",
      "imageio              2.6.1              \n",
      "importlib-metadata   1.3.0              \n",
      "include              0.2.2              \n",
      "inflection           0.3.1              \n",
      "ipykernel            5.1.3              \n",
      "ipython              7.11.1             \n",
      "ipython-genutils     0.2.0              \n",
      "ipywidgets           7.5.1              \n",
      "jedi                 0.15.2             \n",
      "Jinja2               2.10.3             \n",
      "jsonschema           3.2.0              \n",
      "jupyter-client       5.3.4              \n",
      "jupyter-core         4.6.1              \n",
      "Keras-Applications   1.0.8              \n",
      "Keras-Preprocessing  1.1.0              \n",
      "kiwisolver           1.1.0              \n",
      "Markdown             3.1.1              \n",
      "MarkupSafe           1.1.1              \n",
      "matplotlib           3.1.2              \n",
      "mistune              0.8.4              \n",
      "mkl-fft              1.0.15             \n",
      "mkl-random           1.1.0              \n",
      "mkl-service          2.3.0              \n",
      "mock                 3.0.5              \n",
      "more-itertools       8.0.2              \n",
      "nbconvert            5.6.1              \n",
      "nbformat             4.4.0              \n",
      "notebook             6.0.2              \n",
      "numpy                1.18.1             \n",
      "olefile              0.46               \n",
      "opencv-python        4.1.2.30           \n",
      "pandas               0.25.3             \n",
      "pandocfilters        1.4.2              \n",
      "parso                0.5.2              \n",
      "pickleshare          0.7.5              \n",
      "Pillow               6.2.2              \n",
      "pip                  19.3.1             \n",
      "prometheus-client    0.7.1              \n",
      "prompt-toolkit       3.0.2              \n",
      "protobuf             3.11.2             \n",
      "pycparser            2.19               \n",
      "Pygments             2.5.2              \n",
      "pyparsing            2.4.6              \n",
      "pyrsistent           0.15.6             \n",
      "python-dateutil      2.8.1              \n",
      "pytz                 2019.3             \n",
      "pywin32              227                \n",
      "pywinpty             0.5.7              \n",
      "pyzmq                18.1.0             \n",
      "Quandl               3.5.0              \n",
      "requests             2.22.0             \n",
      "Send2Trash           1.5.0              \n",
      "setuptools           44.0.0.post20200106\n",
      "six                  1.13.0             \n",
      "tensorboard          1.13.1             \n",
      "tensorflow           1.13.2             \n",
      "tensorflow-estimator 1.13.0             \n",
      "termcolor            1.1.0              \n",
      "terminado            0.8.3              \n",
      "testpath             0.4.4              \n",
      "tflearn              0.3.2              \n",
      "torch                1.4.0              \n",
      "torchvision          0.5.0              \n",
      "tornado              6.0.3              \n",
      "tqdm                 4.41.1             \n",
      "traitlets            4.3.3              \n",
      "urllib3              1.25.7             \n",
      "wcwidth              0.1.7              \n",
      "webencodings         0.5.1              \n",
      "Werkzeug             0.16.0             \n",
      "wheel                0.33.6             \n",
      "widgetsnbextension   3.5.1              \n",
      "wincertstore         0.2                \n",
      "zipp                 0.6.0              \n"
     ]
    }
   ],
   "source": [
    "!pip list"
   ]
  },
  {
   "cell_type": "code",
   "execution_count": null,
   "metadata": {},
   "outputs": [],
   "source": []
  }
 ],
 "metadata": {
  "kernelspec": {
   "display_name": "Python 3",
   "language": "python",
   "name": "python3"
  },
  "language_info": {
   "codemirror_mode": {
    "name": "ipython",
    "version": 3
   },
   "file_extension": ".py",
   "mimetype": "text/x-python",
   "name": "python",
   "nbconvert_exporter": "python",
   "pygments_lexer": "ipython3",
   "version": "3.7.5"
  }
 },
 "nbformat": 4,
 "nbformat_minor": 2
}
