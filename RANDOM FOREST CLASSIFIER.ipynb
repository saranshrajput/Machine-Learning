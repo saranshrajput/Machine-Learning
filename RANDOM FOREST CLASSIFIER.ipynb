{
 "cells": [
  {
   "cell_type": "markdown",
   "metadata": {},
   "source": [
    "# Importing Data"
   ]
  },
  {
   "cell_type": "code",
   "execution_count": null,
   "metadata": {},
   "outputs": [],
   "source": [
    "import pandas as pd\n",
    "import numpy as np\n",
    "data = pd.read_csv('D:\\Data_Sets\\cancer (1).csv')\n",
    "data"
   ]
  },
  {
   "cell_type": "code",
   "execution_count": 2,
   "metadata": {
    "scrolled": true
   },
   "outputs": [
    {
     "name": "stdout",
     "output_type": "stream",
     "text": [
      "<class 'pandas.core.frame.DataFrame'>\n",
      "RangeIndex: 568 entries, 0 to 567\n",
      "Data columns (total 31 columns):\n",
      " #   Column    Non-Null Count  Dtype  \n",
      "---  ------    --------------  -----  \n",
      " 0   17.99     568 non-null    float64\n",
      " 1   10.38     568 non-null    float64\n",
      " 2   122.8     568 non-null    float64\n",
      " 3   1001      568 non-null    float64\n",
      " 4   0.1184    568 non-null    float64\n",
      " 5   0.2776    568 non-null    float64\n",
      " 6   0.3001    568 non-null    float64\n",
      " 7   0.1471    568 non-null    float64\n",
      " 8   0.2419    568 non-null    float64\n",
      " 9   0.07871   568 non-null    float64\n",
      " 10  1.095     568 non-null    float64\n",
      " 11  0.9053    568 non-null    float64\n",
      " 12  8.589     568 non-null    float64\n",
      " 13  153.4     568 non-null    float64\n",
      " 14  0.006399  568 non-null    float64\n",
      " 15  0.04904   568 non-null    float64\n",
      " 16  0.05373   568 non-null    float64\n",
      " 17  0.01587   568 non-null    float64\n",
      " 18  0.03003   568 non-null    float64\n",
      " 19  0.006193  568 non-null    float64\n",
      " 20  25.38     568 non-null    float64\n",
      " 21  17.33     568 non-null    float64\n",
      " 22  184.6     568 non-null    float64\n",
      " 23  2019      568 non-null    float64\n",
      " 24  0.1622    568 non-null    float64\n",
      " 25  0.6656    568 non-null    float64\n",
      " 26  0.7119    568 non-null    float64\n",
      " 27  0.2654    568 non-null    float64\n",
      " 28  0.4601    568 non-null    float64\n",
      " 29  0.1189    568 non-null    float64\n",
      " 30  M         568 non-null    object \n",
      "dtypes: float64(30), object(1)\n",
      "memory usage: 137.7+ KB\n"
     ]
    }
   ],
   "source": [
    "data.info()"
   ]
  },
  {
   "cell_type": "code",
   "execution_count": 3,
   "metadata": {},
   "outputs": [
    {
     "data": {
      "text/plain": [
       "17.99       0\n",
       "10.38       0\n",
       "122.8       0\n",
       "1001        0\n",
       "0.1184      0\n",
       "0.2776      0\n",
       "0.3001      0\n",
       "0.1471      0\n",
       "0.2419      0\n",
       "0.07871     0\n",
       "1.095       0\n",
       "0.9053      0\n",
       "8.589       0\n",
       "153.4       0\n",
       "0.006399    0\n",
       "0.04904     0\n",
       "0.05373     0\n",
       "0.01587     0\n",
       "0.03003     0\n",
       "0.006193    0\n",
       "25.38       0\n",
       "17.33       0\n",
       "184.6       0\n",
       "2019        0\n",
       "0.1622      0\n",
       "0.6656      0\n",
       "0.7119      0\n",
       "0.2654      0\n",
       "0.4601      0\n",
       "0.1189      0\n",
       "M           0\n",
       "dtype: int64"
      ]
     },
     "execution_count": 3,
     "metadata": {},
     "output_type": "execute_result"
    }
   ],
   "source": [
    "data.isnull().sum()"
   ]
  },
  {
   "cell_type": "markdown",
   "metadata": {},
   "source": [
    "# Dividing Data into Features and Labels "
   ]
  },
  {
   "cell_type": "code",
   "execution_count": 4,
   "metadata": {},
   "outputs": [],
   "source": [
    "x = data.values[: , 0:29]\n",
    "y = data.values[: , 30]\n"
   ]
  },
  {
   "cell_type": "code",
   "execution_count": 5,
   "metadata": {},
   "outputs": [
    {
     "name": "stdout",
     "output_type": "stream",
     "text": [
      "(568, 29) (568,)\n"
     ]
    }
   ],
   "source": [
    "print(x.shape , y.shape)"
   ]
  },
  {
   "cell_type": "markdown",
   "metadata": {},
   "source": [
    "# Importing random forest classifier"
   ]
  },
  {
   "cell_type": "code",
   "execution_count": 6,
   "metadata": {},
   "outputs": [],
   "source": [
    "from sklearn.ensemble import RandomForestClassifier\n",
    "from sklearn.model_selection import train_test_split\n",
    "from sklearn.metrics import accuracy_score\n",
    "x_train , x_test , y_train , y_test = train_test_split(x , y , test_size = 0.2 , random_state = 100)\n"
   ]
  },
  {
   "cell_type": "markdown",
   "metadata": {},
   "source": [
    "# Training Data,  making Predictions and checking Accuracy"
   ]
  },
  {
   "cell_type": "code",
   "execution_count": 7,
   "metadata": {},
   "outputs": [
    {
     "name": "stdout",
     "output_type": "stream",
     "text": [
      "FINISHED classifying. accuracy score : \n",
      "0.9298245614035088\n"
     ]
    }
   ],
   "source": [
    "model = RandomForestClassifier()\n",
    "#train model\n",
    "model.fit(x_train, y_train)\n",
    "predicted_labels = model.predict(x_test)\n",
    "print (\"FINISHED classifying. accuracy score : \")\n",
    "print (accuracy_score(y_test, predicted_labels))"
   ]
  },
  {
   "cell_type": "code",
   "execution_count": 8,
   "metadata": {},
   "outputs": [
    {
     "data": {
      "text/html": [
       "<div>\n",
       "<style scoped>\n",
       "    .dataframe tbody tr th:only-of-type {\n",
       "        vertical-align: middle;\n",
       "    }\n",
       "\n",
       "    .dataframe tbody tr th {\n",
       "        vertical-align: top;\n",
       "    }\n",
       "\n",
       "    .dataframe thead th {\n",
       "        text-align: right;\n",
       "    }\n",
       "</style>\n",
       "<table border=\"1\" class=\"dataframe\">\n",
       "  <thead>\n",
       "    <tr style=\"text-align: right;\">\n",
       "      <th></th>\n",
       "      <th>Actual</th>\n",
       "      <th>Predicted</th>\n",
       "    </tr>\n",
       "  </thead>\n",
       "  <tbody>\n",
       "    <tr>\n",
       "      <th>0</th>\n",
       "      <td>M</td>\n",
       "      <td>M</td>\n",
       "    </tr>\n",
       "    <tr>\n",
       "      <th>1</th>\n",
       "      <td>M</td>\n",
       "      <td>M</td>\n",
       "    </tr>\n",
       "    <tr>\n",
       "      <th>2</th>\n",
       "      <td>B</td>\n",
       "      <td>B</td>\n",
       "    </tr>\n",
       "    <tr>\n",
       "      <th>3</th>\n",
       "      <td>M</td>\n",
       "      <td>M</td>\n",
       "    </tr>\n",
       "    <tr>\n",
       "      <th>4</th>\n",
       "      <td>B</td>\n",
       "      <td>B</td>\n",
       "    </tr>\n",
       "    <tr>\n",
       "      <th>...</th>\n",
       "      <td>...</td>\n",
       "      <td>...</td>\n",
       "    </tr>\n",
       "    <tr>\n",
       "      <th>109</th>\n",
       "      <td>B</td>\n",
       "      <td>B</td>\n",
       "    </tr>\n",
       "    <tr>\n",
       "      <th>110</th>\n",
       "      <td>M</td>\n",
       "      <td>B</td>\n",
       "    </tr>\n",
       "    <tr>\n",
       "      <th>111</th>\n",
       "      <td>M</td>\n",
       "      <td>M</td>\n",
       "    </tr>\n",
       "    <tr>\n",
       "      <th>112</th>\n",
       "      <td>B</td>\n",
       "      <td>B</td>\n",
       "    </tr>\n",
       "    <tr>\n",
       "      <th>113</th>\n",
       "      <td>B</td>\n",
       "      <td>B</td>\n",
       "    </tr>\n",
       "  </tbody>\n",
       "</table>\n",
       "<p>114 rows × 2 columns</p>\n",
       "</div>"
      ],
      "text/plain": [
       "    Actual Predicted \n",
       "0        M          M\n",
       "1        M          M\n",
       "2        B          B\n",
       "3        M          M\n",
       "4        B          B\n",
       "..     ...        ...\n",
       "109      B          B\n",
       "110      M          B\n",
       "111      M          M\n",
       "112      B          B\n",
       "113      B          B\n",
       "\n",
       "[114 rows x 2 columns]"
      ]
     },
     "execution_count": 8,
     "metadata": {},
     "output_type": "execute_result"
    }
   ],
   "source": [
    "df = pd.DataFrame({'Actual': y_test , 'Predicted ' : predicted_labels})\n",
    "df"
   ]
  },
  {
   "cell_type": "code",
   "execution_count": null,
   "metadata": {},
   "outputs": [],
   "source": []
  }
 ],
 "metadata": {
  "kernelspec": {
   "display_name": "Python 3",
   "language": "python",
   "name": "python3"
  },
  "language_info": {
   "codemirror_mode": {
    "name": "ipython",
    "version": 3
   },
   "file_extension": ".py",
   "mimetype": "text/x-python",
   "name": "python",
   "nbconvert_exporter": "python",
   "pygments_lexer": "ipython3",
   "version": "3.7.6"
  }
 },
 "nbformat": 4,
 "nbformat_minor": 4
}
